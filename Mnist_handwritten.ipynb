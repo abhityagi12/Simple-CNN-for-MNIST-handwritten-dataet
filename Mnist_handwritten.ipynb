{
  "nbformat": 4,
  "nbformat_minor": 0,
  "metadata": {
    "kernelspec": {
      "display_name": "Python 3",
      "language": "python",
      "name": "python3"
    },
    "language_info": {
      "codemirror_mode": {
        "name": "ipython",
        "version": 3
      },
      "file_extension": ".py",
      "mimetype": "text/x-python",
      "name": "python",
      "nbconvert_exporter": "python",
      "pygments_lexer": "ipython3",
      "version": "3.6.8"
    },
    "colab": {
      "name": "Mnist_handwritten.ipynb",
      "provenance": [],
      "collapsed_sections": [],
      "machine_shape": "hm",
      "include_colab_link": true
    },
    "accelerator": "GPU"
  },
  "cells": [
    {
      "cell_type": "markdown",
      "metadata": {
        "id": "view-in-github",
        "colab_type": "text"
      },
      "source": [
        "<a href=\"https://colab.research.google.com/github/abhityagi12/Simple-CNN-for-MNIST-handwritten-dataet/blob/master/Mnist_handwritten.ipynb\" target=\"_parent\"><img src=\"https://colab.research.google.com/assets/colab-badge.svg\" alt=\"Open In Colab\"/></a>"
      ]
    },
    {
      "cell_type": "code",
      "metadata": {
        "id": "Rqi6DUBP35v9",
        "colab_type": "code",
        "colab": {}
      },
      "source": [
        "import matplotlib.pyplot as plt\n",
        "from matplotlib.pyplot import imshow\n",
        "import numpy as np\n",
        "import PIL\n",
        "import keras\n",
        "from keras.layers import Conv2D, MaxPool2D, BatchNormalization\n",
        "from keras.layers import Activation,Dropout, Flatten, Dense, Input\n",
        "from keras.models import load_model, Model, Sequential\n",
        "from keras.datasets import mnist"
      ],
      "execution_count": 0,
      "outputs": []
    },
    {
      "cell_type": "code",
      "metadata": {
        "id": "5poXiK0Y35wD",
        "colab_type": "code",
        "colab": {}
      },
      "source": [
        "(x_train,y_train),(x_test,y_test)=mnist.load_data()"
      ],
      "execution_count": 0,
      "outputs": []
    },
    {
      "cell_type": "code",
      "metadata": {
        "id": "EEDr-kqMmvDp",
        "colab_type": "code",
        "colab": {
          "base_uri": "https://localhost:8080/",
          "height": 34
        },
        "outputId": "68e06f30-55db-40bc-c92a-1e427c1a9945"
      },
      "source": [
        "x_train.shape"
      ],
      "execution_count": 93,
      "outputs": [
        {
          "output_type": "execute_result",
          "data": {
            "text/plain": [
              "(60000, 28, 28)"
            ]
          },
          "metadata": {
            "tags": []
          },
          "execution_count": 93
        }
      ]
    },
    {
      "cell_type": "code",
      "metadata": {
        "id": "tAwLgt0No0Kr",
        "colab_type": "code",
        "colab": {
          "base_uri": "https://localhost:8080/",
          "height": 551
        },
        "outputId": "0cbd1fc6-083d-43be-ddea-2dc4c919cd9b"
      },
      "source": [
        "fig = plt.figure()\n",
        "for i in range(9):\n",
        "  plt.subplot(3,3,i+1)\n",
        "  plt.tight_layout()\n",
        "  plt.imshow(x_train[i], cmap='gray', interpolation='none')\n",
        "  plt.title(\"Digit: {}\".format(y_train[i]))\n",
        "  plt.xticks([])\n",
        "  plt.yticks([])\n",
        "fig"
      ],
      "execution_count": 94,
      "outputs": [
        {
          "output_type": "execute_result",
          "data": {
            "image/png": "[encoded data removed]",
            "text/plain": [
              "<Figure size 432x288 with 9 Axes>"
            ]
          },
          "metadata": {
            "tags": []
          },
          "execution_count": 94
        },
        {
          "output_type": "display_data",
          "data": {
            "image/png": "[encoded data removed]",
            "text/plain": [
              "<Figure size 432x288 with 9 Axes>"
            ]
          },
          "metadata": {
            "tags": []
          }
        }
      ]
    },
    {
      "cell_type": "code",
      "metadata": {
        "id": "s5bs-q7zpBHj",
        "colab_type": "code",
        "colab": {
          "base_uri": "https://localhost:8080/",
          "height": 85
        },
        "outputId": "4e7ef7d4-0443-4ad9-df84-527f54035ef6"
      },
      "source": [
        "print(\"X_train shape\", x_train.shape)\n",
        "print(\"y_train shape\", y_train.shape)\n",
        "print(\"X_test shape\", x_test.shape)\n",
        "print(\"y_test shape\", y_test.shape)"
      ],
      "execution_count": 95,
      "outputs": [
        {
          "output_type": "stream",
          "text": [
            "X_train shape (60000, 28, 28)\n",
            "y_train shape (60000,)\n",
            "X_test shape (10000, 28, 28)\n",
            "y_test shape (10000,)\n"
          ],
          "name": "stdout"
        }
      ]
    },
    {
      "cell_type": "code",
      "metadata": {
        "id": "ieEKhHmMvnAU",
        "colab_type": "code",
        "colab": {
          "base_uri": "https://localhost:8080/",
          "height": 34
        },
        "outputId": "952f41df-42f9-45f3-85ed-8c05f5074d41"
      },
      "source": [
        "from keras.utils import to_categorical\n",
        "x_train = x_train.reshape((x_train.shape[0], 28, 28, 1))\n",
        "x_test = x_test.reshape((x_test.shape[0], 28, 28, 1))\n",
        "# one hot encode target values\n",
        "y_train = to_categorical(y_train)\n",
        "y_test = to_categorical(y_test)\n",
        "print(x_train.shape,y_train.shape,x_test.shape,y_test.shape)"
      ],
      "execution_count": 96,
      "outputs": [
        {
          "output_type": "stream",
          "text": [
            "(60000, 28, 28, 1) (60000, 10) (10000, 28, 28, 1) (10000, 10)\n"
          ],
          "name": "stdout"
        }
      ]
    },
    {
      "cell_type": "code",
      "metadata": {
        "id": "ywnjBSVRm7Wg",
        "colab_type": "code",
        "colab": {}
      },
      "source": [
        "def MyModel(input_shape):\n",
        "    X_input=Input(input_shape)\n",
        "    X=Conv2D(16,(5,5), strides=(1,1), name='conv1')(X_input)\n",
        "    X=BatchNormalization(axis=3, name='bn1')(X)\n",
        "    X=Activation('relu')(X)\n",
        "\n",
        "    X=MaxPool2D((2,2),name='maxpool1')(X)\n",
        "\n",
        "    X=Conv2D(32,(5,5), strides=(1,1), name='conv2')(X)\n",
        "    X=BatchNormalization(axis=3, name='bn2')(X)\n",
        "    X=Activation('relu')(X)\n",
        "\n",
        "    # X=MaxPool2D((2,2), name='maxppol2')(X)\n",
        "\n",
        "    X=Conv2D(64,(3,3),strides=(1,1), name='conv3')(X)\n",
        "    X=BatchNormalization(axis=3, name='bn3')(X)\n",
        "    X=Activation('relu')(X)\n",
        "\n",
        "    X=Flatten()(X)\n",
        "    X=Dense(10,activation='softmax', name='fc1')(X)\n",
        "    model=Model(inputs=X_input,outputs=X,name='handwritten-digit-recognizer')\n",
        "    return model"
      ],
      "execution_count": 0,
      "outputs": []
    },
    {
      "cell_type": "code",
      "metadata": {
        "id": "XWoBiRBfpls9",
        "colab_type": "code",
        "colab": {}
      },
      "source": [
        "mnist_model=MyModel(x_train.shape[1:])"
      ],
      "execution_count": 0,
      "outputs": []
    },
    {
      "cell_type": "code",
      "metadata": {
        "id": "EDPFyF_3p3iq",
        "colab_type": "code",
        "colab": {
          "base_uri": "https://localhost:8080/",
          "height": 595
        },
        "outputId": "c7f153b8-b04c-4f5c-cb78-28bbddb51110"
      },
      "source": [
        "mnist_model.summary()"
      ],
      "execution_count": 99,
      "outputs": [
        {
          "output_type": "stream",
          "text": [
            "Model: \"handwritten-digit-recognizer\"\n",
            "_________________________________________________________________\n",
            "Layer (type)                 Output Shape              Param #   \n",
            "=================================================================\n",
            "input_21 (InputLayer)        (None, 28, 28, 1)         0         \n",
            "_________________________________________________________________\n",
            "conv1 (Conv2D)               (None, 24, 24, 16)        416       \n",
            "_________________________________________________________________\n",
            "bn1 (BatchNormalization)     (None, 24, 24, 16)        64        \n",
            "_________________________________________________________________\n",
            "activation_50 (Activation)   (None, 24, 24, 16)        0         \n",
            "_________________________________________________________________\n",
            "maxpool1 (MaxPooling2D)      (None, 12, 12, 16)        0         \n",
            "_________________________________________________________________\n",
            "conv2 (Conv2D)               (None, 8, 8, 32)          12832     \n",
            "_________________________________________________________________\n",
            "bn2 (BatchNormalization)     (None, 8, 8, 32)          128       \n",
            "_________________________________________________________________\n",
            "activation_51 (Activation)   (None, 8, 8, 32)          0         \n",
            "_________________________________________________________________\n",
            "conv3 (Conv2D)               (None, 6, 6, 64)          18496     \n",
            "_________________________________________________________________\n",
            "bn3 (BatchNormalization)     (None, 6, 6, 64)          256       \n",
            "_________________________________________________________________\n",
            "activation_52 (Activation)   (None, 6, 6, 64)          0         \n",
            "_________________________________________________________________\n",
            "flatten_17 (Flatten)         (None, 2304)              0         \n",
            "_________________________________________________________________\n",
            "fc1 (Dense)                  (None, 10)                23050     \n",
            "=================================================================\n",
            "Total params: 55,242\n",
            "Trainable params: 55,018\n",
            "Non-trainable params: 224\n",
            "_________________________________________________________________\n"
          ],
          "name": "stdout"
        }
      ]
    },
    {
      "cell_type": "code",
      "metadata": {
        "id": "mQiTUDlSr1Y_",
        "colab_type": "code",
        "colab": {}
      },
      "source": [
        "sgd = keras.optimizers.SGD(lr=0.001, decay=1e-6, momentum=0.9, nesterov=True)"
      ],
      "execution_count": 0,
      "outputs": []
    },
    {
      "cell_type": "code",
      "metadata": {
        "id": "cjXEYECHsdLu",
        "colab_type": "code",
        "colab": {}
      },
      "source": [
        "mnist_model.compile(loss='categorical_crossentropy',optimizer=sgd,metrics=['accuracy'])"
      ],
      "execution_count": 0,
      "outputs": []
    },
    {
      "cell_type": "code",
      "metadata": {
        "id": "SvOTpXjFuLpJ",
        "colab_type": "code",
        "colab": {}
      },
      "source": [
        "from keras.callbacks import ModelCheckpoint, EarlyStopping\n",
        "es = EarlyStopping(monitor='val_loss', mode='min', verbose=1)"
      ],
      "execution_count": 0,
      "outputs": []
    },
    {
      "cell_type": "code",
      "metadata": {
        "id": "uCjARcmGtRr3",
        "colab_type": "code",
        "colab": {
          "base_uri": "https://localhost:8080/",
          "height": 493
        },
        "outputId": "6ffa628a-d96e-4f1f-fc95-746e40ac44c2"
      },
      "source": [
        "hist1=mnist_model.fit(x_train,y_train,validation_data=(x_test,y_test),epochs=50,batch_size=200, callbacks=[es])"
      ],
      "execution_count": 103,
      "outputs": [
        {
          "output_type": "stream",
          "text": [
            "Train on 60000 samples, validate on 10000 samples\n",
            "Epoch 1/50\n",
            "60000/60000 [==============================] - 6s 100us/step - loss: 0.3881 - accuracy: 0.8913 - val_loss: 0.1715 - val_accuracy: 0.9593\n",
            "Epoch 2/50\n",
            "60000/60000 [==============================] - 6s 93us/step - loss: 0.1318 - accuracy: 0.9649 - val_loss: 0.1034 - val_accuracy: 0.9741\n",
            "Epoch 3/50\n",
            "60000/60000 [==============================] - 5s 90us/step - loss: 0.0944 - accuracy: 0.9749 - val_loss: 0.0799 - val_accuracy: 0.9782\n",
            "Epoch 4/50\n",
            "60000/60000 [==============================] - 5s 90us/step - loss: 0.0761 - accuracy: 0.9796 - val_loss: 0.0680 - val_accuracy: 0.9816\n",
            "Epoch 5/50\n",
            "60000/60000 [==============================] - 5s 90us/step - loss: 0.0651 - accuracy: 0.9824 - val_loss: 0.0592 - val_accuracy: 0.9833\n",
            "Epoch 6/50\n",
            "60000/60000 [==============================] - 5s 88us/step - loss: 0.0576 - accuracy: 0.9849 - val_loss: 0.0557 - val_accuracy: 0.9841\n",
            "Epoch 7/50\n",
            "60000/60000 [==============================] - 5s 88us/step - loss: 0.0517 - accuracy: 0.9863 - val_loss: 0.0496 - val_accuracy: 0.9852\n",
            "Epoch 8/50\n",
            "60000/60000 [==============================] - 5s 88us/step - loss: 0.0471 - accuracy: 0.9872 - val_loss: 0.0471 - val_accuracy: 0.9860\n",
            "Epoch 9/50\n",
            "60000/60000 [==============================] - 5s 88us/step - loss: 0.0435 - accuracy: 0.9887 - val_loss: 0.0448 - val_accuracy: 0.9862\n",
            "Epoch 10/50\n",
            "60000/60000 [==============================] - 5s 88us/step - loss: 0.0406 - accuracy: 0.9894 - val_loss: 0.0445 - val_accuracy: 0.9863\n",
            "Epoch 11/50\n",
            "60000/60000 [==============================] - 5s 88us/step - loss: 0.0378 - accuracy: 0.9901 - val_loss: 0.0410 - val_accuracy: 0.9873\n",
            "Epoch 12/50\n",
            "60000/60000 [==============================] - 5s 88us/step - loss: 0.0357 - accuracy: 0.9907 - val_loss: 0.0400 - val_accuracy: 0.9877\n",
            "Epoch 13/50\n",
            "60000/60000 [==============================] - 5s 88us/step - loss: 0.0336 - accuracy: 0.9913 - val_loss: 0.0420 - val_accuracy: 0.9868\n",
            "Epoch 00013: early stopping\n"
          ],
          "name": "stdout"
        }
      ]
    },
    {
      "cell_type": "code",
      "metadata": {
        "id": "WIR1IQ_O29wC",
        "colab_type": "code",
        "colab": {
          "base_uri": "https://localhost:8080/",
          "height": 295
        },
        "outputId": "39de813e-694a-4ee5-a9e7-e0b2d57307ba"
      },
      "source": [
        "#plot train and val accuracy\n",
        "plt.plot(hist1.history['accuracy'])\n",
        "plt.plot(hist1.history['val_accuracy'])\n",
        "plt.title('Model accuracy')\n",
        "plt.ylabel('Accuracy')\n",
        "plt.xlabel('Epoch')\n",
        "plt.legend(['Train', 'Test'], loc='upper left')\n",
        "plt.show()"
      ],
      "execution_count": 111,
      "outputs": [
        {
          "output_type": "display_data",
          "data": {
            "image/png": "[encoded data removed]",
            "text/plain": [
              "<Figure size 432x288 with 1 Axes>"
            ]
          },
          "metadata": {
            "tags": [],
            "needs_background": "light"
          }
        }
      ]
    },
    {
      "cell_type": "code",
      "metadata": {
        "id": "0AyjSonY3bJU",
        "colab_type": "code",
        "colab": {
          "base_uri": "https://localhost:8080/",
          "height": 295
        },
        "outputId": "0206bd3b-aea0-4c09-d65f-2a5945cfddb0"
      },
      "source": [
        "#plot train and val loss\n",
        "plt.plot(hist1.history['loss'])\n",
        "plt.plot(hist1.history['val_loss'])\n",
        "plt.title('Model loss')\n",
        "plt.ylabel('Loss')\n",
        "plt.xlabel('Epoch')\n",
        "plt.legend(['Train', 'Test'], loc='upper left')\n",
        "plt.show()"
      ],
      "execution_count": 112,
      "outputs": [
        {
          "output_type": "display_data",
          "data": {
            "image/png": "[encoded data removed]",
            "text/plain": [
              "<Figure size 432x288 with 1 Axes>"
            ]
          },
          "metadata": {
            "tags": [],
            "needs_background": "light"
          }
        }
      ]
    }
  ]
}