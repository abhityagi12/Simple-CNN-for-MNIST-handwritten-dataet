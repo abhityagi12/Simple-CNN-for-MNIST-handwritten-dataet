{
  "nbformat": 4,
  "nbformat_minor": 0,
  "metadata": {
    "kernelspec": {
      "display_name": "Python 3",
      "language": "python",
      "name": "python3"
    },
    "language_info": {
      "codemirror_mode": {
        "name": "ipython",
        "version": 3
      },
      "file_extension": ".py",
      "mimetype": "text/x-python",
      "name": "python",
      "nbconvert_exporter": "python",
      "pygments_lexer": "ipython3",
      "version": "3.6.8"
    },
    "colab": {
      "name": "Handwritten_digit_recognitionDNN.ipynb",
      "provenance": [],
      "collapsed_sections": [],
      "machine_shape": "hm"
    },
    "accelerator": "GPU"
  },
  "cells": [
    {
      "cell_type": "code",
      "metadata": {
        "id": "Rqi6DUBP35v9",
        "colab_type": "code",
        "colab": {}
      },
      "source": [
        "import matplotlib.pyplot as plt\n",
        "from matplotlib.pyplot import imshow\n",
        "import numpy as np\n",
        "import PIL\n",
        "import keras\n",
        "from keras.layers import Conv2D, MaxPool2D, BatchNormalization, GlobalAveragePooling2D\n",
        "from keras.layers import Activation,Dropout, Flatten, Dense, Input\n",
        "from keras.models import load_model, Model, Sequential\n",
        "from keras.layers import concatenate\n",
        "from keras.datasets import mnist\n",
        "from keras import backend as K\n",
        "from keras.engine.topology import Layer\n",
        "np.random.seed(7)"
      ],
      "execution_count": 0,
      "outputs": []
    },
    {
      "cell_type": "code",
      "metadata": {
        "id": "5poXiK0Y35wD",
        "colab_type": "code",
        "colab": {}
      },
      "source": [
        "(x_train,y_train),(x_test,y_test)=mnist.load_data()"
      ],
      "execution_count": 0,
      "outputs": []
    },
    {
      "cell_type": "code",
      "metadata": {
        "id": "EEDr-kqMmvDp",
        "colab_type": "code",
        "outputId": "2c152bc2-9b50-4322-e372-b736e9d8a0e7",
        "colab": {
          "base_uri": "https://localhost:8080/",
          "height": 34
        }
      },
      "source": [
        "x_train.shape"
      ],
      "execution_count": 0,
      "outputs": [
        {
          "output_type": "execute_result",
          "data": {
            "text/plain": [
              "(60000, 28, 28)"
            ]
          },
          "metadata": {
            "tags": []
          },
          "execution_count": 3
        }
      ]
    },
    {
      "cell_type": "code",
      "metadata": {
        "id": "tAwLgt0No0Kr",
        "colab_type": "code",
        "outputId": "5e6ae9a7-7415-4525-f1b3-2c08c4b9ee27",
        "colab": {
          "base_uri": "https://localhost:8080/",
          "height": 551
        }
      },
      "source": [
        "fig = plt.figure()\n",
        "for i in range(9):\n",
        "  plt.subplot(3,3,i+1)\n",
        "  plt.tight_layout()\n",
        "  plt.imshow(x_train[i], cmap='gray', interpolation='none')\n",
        "  plt.title(\"Digit: {}\".format(y_train[i]))\n",
        "  plt.xticks([])\n",
        "  plt.yticks([])\n",
        "fig"
      ],
      "execution_count": 0,
      "outputs": [
        {
          "output_type": "execute_result",
          "data": {
            "image/png": "[encoded data removed]",
            "text/plain": [
              "<Figure size 432x288 with 9 Axes>"
            ]
          },
          "metadata": {
            "tags": []
          },
          "execution_count": 98
        },
        {
          "output_type": "display_data",
          "data": {
            "image/png": "[encoded data removed]",
            "text/plain": [
              "<Figure size 432x288 with 9 Axes>"
            ]
          },
          "metadata": {
            "tags": []
          }
        }
      ]
    },
    {
      "cell_type": "code",
      "metadata": {
        "id": "s5bs-q7zpBHj",
        "colab_type": "code",
        "outputId": "bcc9f7e2-dbcf-4cdc-fc37-e59e0c2ab888",
        "colab": {
          "base_uri": "https://localhost:8080/",
          "height": 85
        }
      },
      "source": [
        "print(\"X_train shape\", x_train.shape)\n",
        "print(\"y_train shape\", y_train.shape)\n",
        "print(\"X_test shape\", x_test.shape)\n",
        "print(\"y_test shape\", y_test.shape)"
      ],
      "execution_count": 0,
      "outputs": [
        {
          "output_type": "stream",
          "text": [
            "X_train shape (60000, 28, 28)\n",
            "y_train shape (60000,)\n",
            "X_test shape (10000, 28, 28)\n",
            "y_test shape (10000,)\n"
          ],
          "name": "stdout"
        }
      ]
    },
    {
      "cell_type": "code",
      "metadata": {
        "id": "ieEKhHmMvnAU",
        "colab_type": "code",
        "outputId": "3f2be201-1121-4c2c-e29f-07a00cffdf53",
        "colab": {
          "base_uri": "https://localhost:8080/",
          "height": 34
        }
      },
      "source": [
        "from keras.utils import to_categorical\n",
        "x_train = x_train.reshape((x_train.shape[0], 28, 28, 1))\n",
        "x_test = x_test.reshape((x_test.shape[0], 28, 28, 1))\n",
        "# one hot encode target values\n",
        "y_train = to_categorical(y_train)\n",
        "y_test = to_categorical(y_test)\n",
        "print(x_train.shape,y_train.shape,x_test.shape,y_test.shape)"
      ],
      "execution_count": 0,
      "outputs": [
        {
          "output_type": "stream",
          "text": [
            "(60000, 28, 28, 1) (60000, 10) (10000, 28, 28, 1) (10000, 10)\n"
          ],
          "name": "stdout"
        }
      ]
    },
    {
      "cell_type": "code",
      "metadata": {
        "id": "ywnjBSVRm7Wg",
        "colab_type": "code",
        "colab": {}
      },
      "source": [
        "def MyModel(input_shape):\n",
        "    X_input=Input(input_shape)\n",
        "\n",
        "    lay1=Conv2D(2,kernel_size=(1,1),activation='relu',padding='same')(X_input)\n",
        "    lay1=Conv2D(2,kernel_size=(7,7),strides=(2,2),activation='relu',padding='same')(lay1)\n",
        "    lay1=Conv2D(2,kernel_size=(1,1),activation='relu',padding='same')(lay1)\n",
        "    lay1=MaxPool2D(pool_size=(7,7),strides=(2,2),padding='same')(lay1)\n",
        "\n",
        "    lay2=Conv2D(4,kernel_size=(1,1),activation='relu',padding='same')(X_input)\n",
        "    lay2=Conv2D(4,kernel_size=(7,7),strides=(2,2),activation='relu',padding='same')(lay2)\n",
        "    lay2=Conv2D(4,kernel_size=(1,1),activation='relu',padding='same')(lay2)\n",
        "    lay2=MaxPool2D(pool_size=(5,5),strides=(2,2),padding='same')(lay2)\n",
        "    \n",
        "    lay3=Conv2D(6,kernel_size=(1,1),activation='relu',padding='same')(X_input)\n",
        "    lay3=Conv2D(6,kernel_size=(5,5),strides=(2,2),activation='relu',padding='same')(lay3)\n",
        "    lay3=Conv2D(6,kernel_size=(1,1),activation='relu',padding='same')(lay3)\n",
        "    lay3=MaxPool2D(pool_size=(5,5),strides=(2,2),padding='same')(lay3)\n",
        "\n",
        "    fc=concatenate([lay1,lay2,lay3])\n",
        "    fc=Flatten()(fc)\n",
        "    fc=Dense(10,activation='relu')(fc)\n",
        "    \n",
        "    output=Dense(10,activation='softmax')(fc)\n",
        "    model=Model(inputs=X_input,outputs=output,name='handwritten-digit-recognizer')\n",
        "    return model"
      ],
      "execution_count": 0,
      "outputs": []
    },
    {
      "cell_type": "code",
      "metadata": {
        "id": "l9H4cNMFEC1i",
        "colab_type": "code",
        "outputId": "a802fc06-321b-4e45-f5c5-f820ad426297",
        "colab": {
          "base_uri": "https://localhost:8080/",
          "height": 765
        }
      },
      "source": [
        "mnist_model3=MyModel(x_train.shape[1:])\n",
        "mnist_model3.summary()"
      ],
      "execution_count": 0,
      "outputs": [
        {
          "output_type": "stream",
          "text": [
            "Model: \"handwritten-digit-recognizer\"\n",
            "__________________________________________________________________________________________________\n",
            "Layer (type)                    Output Shape         Param #     Connected to                     \n",
            "==================================================================================================\n",
            "input_17 (InputLayer)           (None, 28, 28, 1)    0                                            \n",
            "__________________________________________________________________________________________________\n",
            "conv2d_81 (Conv2D)              (None, 28, 28, 2)    4           input_17[0][0]                   \n",
            "__________________________________________________________________________________________________\n",
            "conv2d_84 (Conv2D)              (None, 28, 28, 4)    8           input_17[0][0]                   \n",
            "__________________________________________________________________________________________________\n",
            "conv2d_87 (Conv2D)              (None, 28, 28, 6)    12          input_17[0][0]                   \n",
            "__________________________________________________________________________________________________\n",
            "conv2d_82 (Conv2D)              (None, 14, 14, 2)    198         conv2d_81[0][0]                  \n",
            "__________________________________________________________________________________________________\n",
            "conv2d_85 (Conv2D)              (None, 14, 14, 4)    788         conv2d_84[0][0]                  \n",
            "__________________________________________________________________________________________________\n",
            "conv2d_88 (Conv2D)              (None, 14, 14, 6)    906         conv2d_87[0][0]                  \n",
            "__________________________________________________________________________________________________\n",
            "conv2d_83 (Conv2D)              (None, 14, 14, 2)    6           conv2d_82[0][0]                  \n",
            "__________________________________________________________________________________________________\n",
            "conv2d_86 (Conv2D)              (None, 14, 14, 4)    20          conv2d_85[0][0]                  \n",
            "__________________________________________________________________________________________________\n",
            "conv2d_89 (Conv2D)              (None, 14, 14, 6)    42          conv2d_88[0][0]                  \n",
            "__________________________________________________________________________________________________\n",
            "max_pooling2d_65 (MaxPooling2D) (None, 7, 7, 2)      0           conv2d_83[0][0]                  \n",
            "__________________________________________________________________________________________________\n",
            "max_pooling2d_66 (MaxPooling2D) (None, 7, 7, 4)      0           conv2d_86[0][0]                  \n",
            "__________________________________________________________________________________________________\n",
            "max_pooling2d_67 (MaxPooling2D) (None, 7, 7, 6)      0           conv2d_89[0][0]                  \n",
            "__________________________________________________________________________________________________\n",
            "concatenate_17 (Concatenate)    (None, 7, 7, 12)     0           max_pooling2d_65[0][0]           \n",
            "                                                                 max_pooling2d_66[0][0]           \n",
            "                                                                 max_pooling2d_67[0][0]           \n",
            "__________________________________________________________________________________________________\n",
            "flatten_17 (Flatten)            (None, 588)          0           concatenate_17[0][0]             \n",
            "__________________________________________________________________________________________________\n",
            "dense_33 (Dense)                (None, 10)           5890        flatten_17[0][0]                 \n",
            "__________________________________________________________________________________________________\n",
            "dense_34 (Dense)                (None, 10)           110         dense_33[0][0]                   \n",
            "==================================================================================================\n",
            "Total params: 7,984\n",
            "Trainable params: 7,984\n",
            "Non-trainable params: 0\n",
            "__________________________________________________________________________________________________\n"
          ],
          "name": "stdout"
        }
      ]
    },
    {
      "cell_type": "code",
      "metadata": {
        "id": "sqmgId3flD45",
        "colab_type": "code",
        "outputId": "aca6a703-8359-44ab-b792-3aa189e2530b",
        "colab": {
          "base_uri": "https://localhost:8080/",
          "height": 1000
        }
      },
      "source": [
        "adam2=keras.optimizers.Adam(learning_rate=0.0001, beta_1=0.9, beta_2=0.999, amsgrad=False)\n",
        "mnist_model3.compile(loss='categorical_crossentropy', optimizer=adam2, metrics=['accuracy'])\n",
        "hist3=mnist_model3.fit(x_train,y_train,validation_data=(x_test,y_test),epochs=50,batch_size=128)"
      ],
      "execution_count": 0,
      "outputs": [
        {
          "output_type": "stream",
          "text": [
            "Train on 60000 samples, validate on 10000 samples\n",
            "Epoch 1/50\n",
            "60000/60000 [==============================] - 4s 71us/step - loss: 5.8519 - accuracy: 0.1039 - val_loss: 2.3152 - val_accuracy: 0.1014\n",
            "Epoch 2/50\n",
            "60000/60000 [==============================] - 4s 65us/step - loss: 2.3078 - accuracy: 0.1069 - val_loss: 2.3049 - val_accuracy: 0.1090\n",
            "Epoch 3/50\n",
            "60000/60000 [==============================] - 4s 65us/step - loss: 2.3031 - accuracy: 0.1104 - val_loss: 2.3033 - val_accuracy: 0.1114\n",
            "Epoch 4/50\n",
            "60000/60000 [==============================] - 4s 64us/step - loss: 2.3016 - accuracy: 0.1114 - val_loss: 2.3026 - val_accuracy: 0.1123\n",
            "Epoch 5/50\n",
            "60000/60000 [==============================] - 4s 64us/step - loss: 2.3004 - accuracy: 0.1128 - val_loss: 2.3017 - val_accuracy: 0.1138\n",
            "Epoch 6/50\n",
            "60000/60000 [==============================] - 4s 64us/step - loss: 2.2902 - accuracy: 0.1230 - val_loss: 2.2690 - val_accuracy: 0.1388\n",
            "Epoch 7/50\n",
            "60000/60000 [==============================] - 4s 64us/step - loss: 2.2252 - accuracy: 0.1618 - val_loss: 2.1421 - val_accuracy: 0.2087\n",
            "Epoch 8/50\n",
            "60000/60000 [==============================] - 4s 64us/step - loss: 2.0030 - accuracy: 0.2597 - val_loss: 1.9141 - val_accuracy: 0.2892\n",
            "Epoch 9/50\n",
            "60000/60000 [==============================] - 4s 64us/step - loss: 1.8570 - accuracy: 0.3196 - val_loss: 1.7990 - val_accuracy: 0.3590\n",
            "Epoch 10/50\n",
            "60000/60000 [==============================] - 4s 64us/step - loss: 1.7703 - accuracy: 0.3580 - val_loss: 1.7383 - val_accuracy: 0.3673\n",
            "Epoch 11/50\n",
            "60000/60000 [==============================] - 4s 64us/step - loss: 1.7181 - accuracy: 0.3706 - val_loss: 1.7006 - val_accuracy: 0.3760\n",
            "Epoch 12/50\n",
            "60000/60000 [==============================] - 4s 64us/step - loss: 1.6796 - accuracy: 0.3782 - val_loss: 1.6716 - val_accuracy: 0.3857\n",
            "Epoch 13/50\n",
            "60000/60000 [==============================] - 4s 64us/step - loss: 1.5736 - accuracy: 0.4265 - val_loss: 1.4671 - val_accuracy: 0.4726\n",
            "Epoch 14/50\n",
            "60000/60000 [==============================] - 4s 64us/step - loss: 1.4101 - accuracy: 0.4801 - val_loss: 1.3623 - val_accuracy: 0.4889\n",
            "Epoch 15/50\n",
            "60000/60000 [==============================] - 4s 64us/step - loss: 1.3199 - accuracy: 0.5219 - val_loss: 1.2866 - val_accuracy: 0.5542\n",
            "Epoch 16/50\n",
            "60000/60000 [==============================] - 4s 64us/step - loss: 1.2423 - accuracy: 0.5626 - val_loss: 1.2146 - val_accuracy: 0.5770\n",
            "Epoch 17/50\n",
            "60000/60000 [==============================] - 4s 64us/step - loss: 1.1705 - accuracy: 0.5683 - val_loss: 1.0608 - val_accuracy: 0.5803\n",
            "Epoch 18/50\n",
            "60000/60000 [==============================] - 4s 64us/step - loss: 0.9597 - accuracy: 0.6303 - val_loss: 0.9085 - val_accuracy: 0.7149\n",
            "Epoch 19/50\n",
            "60000/60000 [==============================] - 4s 64us/step - loss: 0.8821 - accuracy: 0.7210 - val_loss: 0.8509 - val_accuracy: 0.7325\n",
            "Epoch 20/50\n",
            "60000/60000 [==============================] - 4s 66us/step - loss: 0.8323 - accuracy: 0.7351 - val_loss: 0.8059 - val_accuracy: 0.7472\n",
            "Epoch 21/50\n",
            "60000/60000 [==============================] - 4s 70us/step - loss: 0.7898 - accuracy: 0.7484 - val_loss: 0.7577 - val_accuracy: 0.7641\n",
            "Epoch 22/50\n",
            "60000/60000 [==============================] - 4s 70us/step - loss: 0.6595 - accuracy: 0.8207 - val_loss: 0.6085 - val_accuracy: 0.8435\n",
            "Epoch 23/50\n",
            "60000/60000 [==============================] - 4s 65us/step - loss: 0.5885 - accuracy: 0.8481 - val_loss: 0.5614 - val_accuracy: 0.8701\n",
            "Epoch 24/50\n",
            "60000/60000 [==============================] - 4s 64us/step - loss: 0.5426 - accuracy: 0.8722 - val_loss: 0.5166 - val_accuracy: 0.8921\n",
            "Epoch 25/50\n",
            "60000/60000 [==============================] - 4s 64us/step - loss: 0.5024 - accuracy: 0.8928 - val_loss: 0.4863 - val_accuracy: 0.9006\n",
            "Epoch 26/50\n",
            "60000/60000 [==============================] - 4s 64us/step - loss: 0.4664 - accuracy: 0.9058 - val_loss: 0.4489 - val_accuracy: 0.9093\n",
            "Epoch 27/50\n",
            "60000/60000 [==============================] - 4s 64us/step - loss: 0.4377 - accuracy: 0.9150 - val_loss: 0.4265 - val_accuracy: 0.9221\n",
            "Epoch 28/50\n",
            "60000/60000 [==============================] - 4s 64us/step - loss: 0.4108 - accuracy: 0.9221 - val_loss: 0.3994 - val_accuracy: 0.9269\n",
            "Epoch 29/50\n",
            "60000/60000 [==============================] - 4s 64us/step - loss: 0.3844 - accuracy: 0.9281 - val_loss: 0.3689 - val_accuracy: 0.9312\n",
            "Epoch 30/50\n",
            "60000/60000 [==============================] - 4s 64us/step - loss: 0.3624 - accuracy: 0.9329 - val_loss: 0.3622 - val_accuracy: 0.9364\n",
            "Epoch 31/50\n",
            "60000/60000 [==============================] - 4s 64us/step - loss: 0.3415 - accuracy: 0.9381 - val_loss: 0.3321 - val_accuracy: 0.9377\n",
            "Epoch 32/50\n",
            "60000/60000 [==============================] - 4s 64us/step - loss: 0.3221 - accuracy: 0.9409 - val_loss: 0.3152 - val_accuracy: 0.9421\n",
            "Epoch 33/50\n",
            "60000/60000 [==============================] - 4s 64us/step - loss: 0.3044 - accuracy: 0.9440 - val_loss: 0.3123 - val_accuracy: 0.9395\n",
            "Epoch 34/50\n",
            "60000/60000 [==============================] - 4s 63us/step - loss: 0.2862 - accuracy: 0.9478 - val_loss: 0.2859 - val_accuracy: 0.9467\n",
            "Epoch 35/50\n",
            "60000/60000 [==============================] - 4s 64us/step - loss: 0.2713 - accuracy: 0.9491 - val_loss: 0.2851 - val_accuracy: 0.9472\n",
            "Epoch 36/50\n",
            "60000/60000 [==============================] - 4s 64us/step - loss: 0.2582 - accuracy: 0.9506 - val_loss: 0.2627 - val_accuracy: 0.9519\n",
            "Epoch 37/50\n",
            "60000/60000 [==============================] - 4s 64us/step - loss: 0.2438 - accuracy: 0.9539 - val_loss: 0.2486 - val_accuracy: 0.9508\n",
            "Epoch 38/50\n",
            "60000/60000 [==============================] - 4s 64us/step - loss: 0.2330 - accuracy: 0.9556 - val_loss: 0.2443 - val_accuracy: 0.9545\n",
            "Epoch 39/50\n",
            "60000/60000 [==============================] - 4s 64us/step - loss: 0.2225 - accuracy: 0.9571 - val_loss: 0.2247 - val_accuracy: 0.9584\n",
            "Epoch 40/50\n",
            "60000/60000 [==============================] - 4s 64us/step - loss: 0.2123 - accuracy: 0.9588 - val_loss: 0.2197 - val_accuracy: 0.9604\n",
            "Epoch 41/50\n",
            "60000/60000 [==============================] - 4s 64us/step - loss: 0.1990 - accuracy: 0.9601 - val_loss: 0.1963 - val_accuracy: 0.9564\n",
            "Epoch 42/50\n",
            "60000/60000 [==============================] - 4s 64us/step - loss: 0.1631 - accuracy: 0.9599 - val_loss: 0.1597 - val_accuracy: 0.9612\n",
            "Epoch 43/50\n",
            "60000/60000 [==============================] - 4s 64us/step - loss: 0.1443 - accuracy: 0.9619 - val_loss: 0.1479 - val_accuracy: 0.9624\n",
            "Epoch 44/50\n",
            "60000/60000 [==============================] - 4s 65us/step - loss: 0.1362 - accuracy: 0.9631 - val_loss: 0.1482 - val_accuracy: 0.9630\n",
            "Epoch 45/50\n",
            "60000/60000 [==============================] - 4s 64us/step - loss: 0.1284 - accuracy: 0.9646 - val_loss: 0.1345 - val_accuracy: 0.9645\n",
            "Epoch 46/50\n",
            "60000/60000 [==============================] - 4s 64us/step - loss: 0.1233 - accuracy: 0.9660 - val_loss: 0.1323 - val_accuracy: 0.9661\n",
            "Epoch 47/50\n",
            "60000/60000 [==============================] - 4s 64us/step - loss: 0.1194 - accuracy: 0.9666 - val_loss: 0.1296 - val_accuracy: 0.9645\n",
            "Epoch 48/50\n",
            "60000/60000 [==============================] - 4s 64us/step - loss: 0.1154 - accuracy: 0.9673 - val_loss: 0.1276 - val_accuracy: 0.9642\n",
            "Epoch 49/50\n",
            "60000/60000 [==============================] - 4s 64us/step - loss: 0.1119 - accuracy: 0.9681 - val_loss: 0.1263 - val_accuracy: 0.9648\n",
            "Epoch 50/50\n",
            "60000/60000 [==============================] - 4s 64us/step - loss: 0.1084 - accuracy: 0.9694 - val_loss: 0.1240 - val_accuracy: 0.9667\n"
          ],
          "name": "stdout"
        }
      ]
    },
    {
      "cell_type": "code",
      "metadata": {
        "id": "TSkGvoTesAf_",
        "colab_type": "code",
        "outputId": "d1f6459a-8123-4d85-c824-282471c53fcb",
        "colab": {
          "base_uri": "https://localhost:8080/",
          "height": 295
        }
      },
      "source": [
        "plt.plot(hist3.history['accuracy'])\n",
        "plt.plot(hist3.history['val_accuracy'])\n",
        "plt.title('Model accuracy')\n",
        "plt.ylabel('Accuracy')\n",
        "plt.xlabel('Epoch')\n",
        "plt.legend(['Train', 'Test'], loc='upper left')\n",
        "plt.show()"
      ],
      "execution_count": 0,
      "outputs": [
        {
          "output_type": "display_data",
          "data": {
            "image/png": "[encoded data removed]",
            "text/plain": [
              "<Figure size 432x288 with 1 Axes>"
            ]
          },
          "metadata": {
            "tags": [],
            "needs_background": "light"
          }
        }
      ]
    },
    {
      "cell_type": "code",
      "metadata": {
        "id": "u8KN3p9cs3DA",
        "colab_type": "code",
        "outputId": "10951897-2a00-43c2-d350-d8c3b0de08d8",
        "colab": {
          "base_uri": "https://localhost:8080/",
          "height": 295
        }
      },
      "source": [
        "plt.plot(hist3.history['loss'])\n",
        "plt.plot(hist3.history['val_loss'])\n",
        "plt.title('Model loss')\n",
        "plt.ylabel('Loss')\n",
        "plt.xlabel('Epoch')\n",
        "plt.legend(['Train', 'Test'], loc='upper left')\n",
        "plt.show()"
      ],
      "execution_count": 0,
      "outputs": [
        {
          "output_type": "display_data",
          "data": {
            "image/png": "[encoded data removed]",
            "text/plain": [
              "<Figure size 432x288 with 1 Axes>"
            ]
          },
          "metadata": {
            "tags": [],
            "needs_background": "light"
          }
        }
      ]
    },
    {
      "cell_type": "code",
      "metadata": {
        "id": "kxX8cNA-aBt9",
        "colab_type": "code",
        "colab": {}
      },
      "source": [
        "def MyModel3(input_shape):\n",
        "    X_input=Input(input_shape)\n",
        "\n",
        "    # lay1=Conv2D(2,kernel_size=(1,1),activation='relu',padding='same')(X_input)\n",
        "    lay1=Conv2D(2,kernel_size=(1,1),strides=(2,2),activation='relu',padding='same')(X_input)\n",
        "    # lay1=Conv2D(2,kernel_size=(1,1),activation='relu',padding='same')(lay1)\n",
        "    lay1=MaxPool2D(pool_size=(3,3),strides=(2,2),padding='same')(lay1)\n",
        "    lay1=BatchNormalization()(lay1)\n",
        "\n",
        "    # lay1_=BatchNormalization()\n",
        "\n",
        "    # lay2=Conv2D(4,kernel_size=(1,1),activation='relu',padding='same')(X_input)\n",
        "    lay2=Conv2D(4,kernel_size=(1,1),strides=(2,2),activation='relu',padding='same')(X_input)\n",
        "    # lay2=Conv2D(4,kernel_size=(1,1),activation='relu',padding='same')(lay2)\n",
        "    lay2=MaxPool2D(pool_size=(3,3),strides=(2,2),padding='same')(lay2)\n",
        "    lay2=BatchNormalization()(lay2)\n",
        "    # lay2_=BatchNormalization()\n",
        "\n",
        "    # lay3=Conv2D(6,kernel_size=(1,1),activation='relu',padding='same')(X_input)\n",
        "    lay3=Conv2D(4,kernel_size=(1,1),strides=(2,2),activation='relu',padding='same')(X_input)\n",
        "    # lay3=Conv2D(6,kernel_size=(1,1),activation='relu',padding='same')(lay3)\n",
        "    lay3=MaxPool2D(pool_size=(3,3),strides=(2,2),padding='same')(lay3)\n",
        "    lay3=BatchNormalization()(lay3)\n",
        "    # lay3_=BatchNormalization()\n",
        "\n",
        "    # lay4=Conv2D(6,kernel_size=(1,1),activation='relu',padding='same')(X_input)\n",
        "    lay4=Conv2D(6,kernel_size=(1,1),strides=(2,2),activation='relu',padding='same')(X_input)\n",
        "    # lay4=Conv2D(6,kernel_size=(1,1),activation='relu',padding='same')(lay4)\n",
        "    lay4=MaxPool2D(pool_size=(1,1),strides=(2,2),padding='same')(lay4)\n",
        "    lay4=BatchNormalization()(lay4)\n",
        "\n",
        "    fc=concatenate([lay1,lay2,lay3,lay4])\n",
        "    fc=Flatten()(fc)\n",
        "    fc=Dense(10,activation='relu')(fc)\n",
        "    \n",
        "    output=Dense(10,activation='softmax')(fc)\n",
        "    model=Model(inputs=X_input,outputs=output,name='handwritten-digit-recognizer')\n",
        "    # model.add(BatchNormalization())\n",
        "    return model\n",
        "\n",
        "def MyModel(input_shape):\n",
        "    X_input=Input(input_shape)\n",
        "\n",
        "    lay1=Conv2D(2,kernel_size=(1,1),activation='relu',padding='same')(X_input)\n",
        "    lay1=Conv2D(2,kernel_size=(7,7),strides=(2,2),activation='relu',padding='same')(lay1)\n",
        "    lay1=Conv2D(2,kernel_size=(1,1),activation='relu',padding='same')(lay1)\n",
        "    lay1=MaxPool2D(pool_size=(7,7),strides=(2,2),padding='same')(lay1)\n",
        "    lay1=BatchNormalization()(lay1)\n",
        "\n",
        "    lay2=Conv2D(4,kernel_size=(1,1),activation='relu',padding='same')(X_input)\n",
        "    lay2=Conv2D(4,kernel_size=(7,7),strides=(2,2),activation='relu',padding='same')(lay2)\n",
        "    lay2=Conv2D(4,kernel_size=(1,1),activation='relu',padding='same')(lay2)\n",
        "    lay2=MaxPool2D(pool_size=(5,5),strides=(2,2),padding='same')(lay2)\n",
        "    lay2=BatchNormalization()(lay2)\n",
        "\n",
        "    lay3=Conv2D(6,kernel_size=(1,1),activation='relu',padding='same')(X_input)\n",
        "    lay3=Conv2D(6,kernel_size=(5,5),strides=(2,2),activation='relu',padding='same')(lay3)\n",
        "    lay3=Conv2D(6,kernel_size=(1,1),activation='relu',padding='same')(lay3)\n",
        "    lay3=MaxPool2D(pool_size=(5,5),strides=(2,2),padding='same')(lay3)\n",
        "    lay3=BatchNormalization()(lay3)\n",
        "\n",
        "    fc=concatenate([lay1,lay2,lay3])\n",
        "    fc=Flatten()(fc)\n",
        "    fc=Dense(10,activation='relu')(fc)\n",
        "    \n",
        "    output=Dense(10,activation='softmax')(fc)\n",
        "    model=Model(inputs=X_input,outputs=output,name='handwritten-digit-recognizer')\n",
        "    return model"
      ],
      "execution_count": 0,
      "outputs": []
    },
    {
      "cell_type": "code",
      "metadata": {
        "id": "ZMkQWbhGeCHL",
        "colab_type": "code",
        "outputId": "f888da23-a869-4343-ffdd-991bad9d2514",
        "colab": {
          "base_uri": "https://localhost:8080/",
          "height": 867
        }
      },
      "source": [
        "model6=MyModel(x_train.shape[1:])\n",
        "model6.summary()"
      ],
      "execution_count": 0,
      "outputs": [
        {
          "output_type": "stream",
          "text": [
            "Model: \"handwritten-digit-recognizer\"\n",
            "__________________________________________________________________________________________________\n",
            "Layer (type)                    Output Shape         Param #     Connected to                     \n",
            "==================================================================================================\n",
            "input_24 (InputLayer)           (None, 28, 28, 1)    0                                            \n",
            "__________________________________________________________________________________________________\n",
            "conv2d_116 (Conv2D)             (None, 28, 28, 2)    4           input_24[0][0]                   \n",
            "__________________________________________________________________________________________________\n",
            "conv2d_119 (Conv2D)             (None, 28, 28, 4)    8           input_24[0][0]                   \n",
            "__________________________________________________________________________________________________\n",
            "conv2d_122 (Conv2D)             (None, 28, 28, 6)    12          input_24[0][0]                   \n",
            "__________________________________________________________________________________________________\n",
            "conv2d_117 (Conv2D)             (None, 14, 14, 2)    198         conv2d_116[0][0]                 \n",
            "__________________________________________________________________________________________________\n",
            "conv2d_120 (Conv2D)             (None, 14, 14, 4)    788         conv2d_119[0][0]                 \n",
            "__________________________________________________________________________________________________\n",
            "conv2d_123 (Conv2D)             (None, 14, 14, 6)    906         conv2d_122[0][0]                 \n",
            "__________________________________________________________________________________________________\n",
            "conv2d_118 (Conv2D)             (None, 14, 14, 2)    6           conv2d_117[0][0]                 \n",
            "__________________________________________________________________________________________________\n",
            "conv2d_121 (Conv2D)             (None, 14, 14, 4)    20          conv2d_120[0][0]                 \n",
            "__________________________________________________________________________________________________\n",
            "conv2d_124 (Conv2D)             (None, 14, 14, 6)    42          conv2d_123[0][0]                 \n",
            "__________________________________________________________________________________________________\n",
            "max_pooling2d_94 (MaxPooling2D) (None, 7, 7, 2)      0           conv2d_118[0][0]                 \n",
            "__________________________________________________________________________________________________\n",
            "max_pooling2d_95 (MaxPooling2D) (None, 7, 7, 4)      0           conv2d_121[0][0]                 \n",
            "__________________________________________________________________________________________________\n",
            "max_pooling2d_96 (MaxPooling2D) (None, 7, 7, 6)      0           conv2d_124[0][0]                 \n",
            "__________________________________________________________________________________________________\n",
            "batch_normalization_12 (BatchNo (None, 7, 7, 2)      8           max_pooling2d_94[0][0]           \n",
            "__________________________________________________________________________________________________\n",
            "batch_normalization_13 (BatchNo (None, 7, 7, 4)      16          max_pooling2d_95[0][0]           \n",
            "__________________________________________________________________________________________________\n",
            "batch_normalization_14 (BatchNo (None, 7, 7, 6)      24          max_pooling2d_96[0][0]           \n",
            "__________________________________________________________________________________________________\n",
            "concatenate_23 (Concatenate)    (None, 7, 7, 12)     0           batch_normalization_12[0][0]     \n",
            "                                                                 batch_normalization_13[0][0]     \n",
            "                                                                 batch_normalization_14[0][0]     \n",
            "__________________________________________________________________________________________________\n",
            "flatten_23 (Flatten)            (None, 588)          0           concatenate_23[0][0]             \n",
            "__________________________________________________________________________________________________\n",
            "dense_45 (Dense)                (None, 10)           5890        flatten_23[0][0]                 \n",
            "__________________________________________________________________________________________________\n",
            "dense_46 (Dense)                (None, 10)           110         dense_45[0][0]                   \n",
            "==================================================================================================\n",
            "Total params: 8,032\n",
            "Trainable params: 8,008\n",
            "Non-trainable params: 24\n",
            "__________________________________________________________________________________________________\n"
          ],
          "name": "stdout"
        }
      ]
    },
    {
      "cell_type": "code",
      "metadata": {
        "id": "JHzPm2greReN",
        "colab_type": "code",
        "outputId": "2a83e70c-65ec-4f07-9f1c-76d7067bc488",
        "colab": {
          "base_uri": "https://localhost:8080/",
          "height": 1000
        }
      },
      "source": [
        "adam=keras.optimizers.Adam(learning_rate=0.0001, beta_1=0.9, beta_2=0.999, amsgrad=False)\n",
        "model6.compile(loss='categorical_crossentropy', optimizer=adam, metrics=['accuracy'])\n",
        "hist6=model6.fit(x_train,y_train,validation_data=(x_test,y_test),epochs=50,batch_size=128)"
      ],
      "execution_count": 0,
      "outputs": [
        {
          "output_type": "stream",
          "text": [
            "Train on 60000 samples, validate on 10000 samples\n",
            "Epoch 1/50\n",
            "60000/60000 [==============================] - 9s 155us/step - loss: 1.6109 - accuracy: 0.4460 - val_loss: 0.9711 - val_accuracy: 0.7425\n",
            "Epoch 2/50\n",
            "60000/60000 [==============================] - 7s 124us/step - loss: 0.6801 - accuracy: 0.8263 - val_loss: 0.4799 - val_accuracy: 0.8745\n",
            "Epoch 3/50\n",
            "60000/60000 [==============================] - 7s 124us/step - loss: 0.3984 - accuracy: 0.8967 - val_loss: 0.3112 - val_accuracy: 0.9153\n",
            "Epoch 4/50\n",
            "60000/60000 [==============================] - 7s 125us/step - loss: 0.2788 - accuracy: 0.9255 - val_loss: 0.2285 - val_accuracy: 0.9359\n",
            "Epoch 5/50\n",
            "60000/60000 [==============================] - 7s 125us/step - loss: 0.2167 - accuracy: 0.9398 - val_loss: 0.1817 - val_accuracy: 0.9462\n",
            "Epoch 6/50\n",
            "60000/60000 [==============================] - 7s 124us/step - loss: 0.1788 - accuracy: 0.9499 - val_loss: 0.1530 - val_accuracy: 0.9553\n",
            "Epoch 7/50\n",
            "60000/60000 [==============================] - 8s 128us/step - loss: 0.1537 - accuracy: 0.9561 - val_loss: 0.1334 - val_accuracy: 0.9602\n",
            "Epoch 8/50\n",
            "60000/60000 [==============================] - 7s 124us/step - loss: 0.1356 - accuracy: 0.9609 - val_loss: 0.1165 - val_accuracy: 0.9662\n",
            "Epoch 9/50\n",
            "60000/60000 [==============================] - 8s 126us/step - loss: 0.1221 - accuracy: 0.9639 - val_loss: 0.1069 - val_accuracy: 0.9675\n",
            "Epoch 10/50\n",
            "60000/60000 [==============================] - 7s 125us/step - loss: 0.1115 - accuracy: 0.9665 - val_loss: 0.0999 - val_accuracy: 0.9705\n",
            "Epoch 11/50\n",
            "60000/60000 [==============================] - 8s 126us/step - loss: 0.1029 - accuracy: 0.9695 - val_loss: 0.0924 - val_accuracy: 0.9732\n",
            "Epoch 12/50\n",
            "60000/60000 [==============================] - 7s 125us/step - loss: 0.0957 - accuracy: 0.9714 - val_loss: 0.0861 - val_accuracy: 0.9750\n",
            "Epoch 13/50\n",
            "60000/60000 [==============================] - 8s 126us/step - loss: 0.0903 - accuracy: 0.9725 - val_loss: 0.0833 - val_accuracy: 0.9743\n",
            "Epoch 14/50\n",
            "60000/60000 [==============================] - 7s 125us/step - loss: 0.0850 - accuracy: 0.9742 - val_loss: 0.0777 - val_accuracy: 0.9775\n",
            "Epoch 15/50\n",
            "60000/60000 [==============================] - 8s 126us/step - loss: 0.0807 - accuracy: 0.9755 - val_loss: 0.0743 - val_accuracy: 0.9782\n",
            "Epoch 16/50\n",
            "60000/60000 [==============================] - 7s 124us/step - loss: 0.0770 - accuracy: 0.9767 - val_loss: 0.0715 - val_accuracy: 0.9788\n",
            "Epoch 17/50\n",
            "60000/60000 [==============================] - 8s 125us/step - loss: 0.0736 - accuracy: 0.9777 - val_loss: 0.0696 - val_accuracy: 0.9789\n",
            "Epoch 18/50\n",
            "60000/60000 [==============================] - 8s 125us/step - loss: 0.0709 - accuracy: 0.9783 - val_loss: 0.0675 - val_accuracy: 0.9800\n",
            "Epoch 19/50\n",
            "60000/60000 [==============================] - 8s 127us/step - loss: 0.0684 - accuracy: 0.9790 - val_loss: 0.0651 - val_accuracy: 0.9808\n",
            "Epoch 20/50\n",
            "60000/60000 [==============================] - 8s 125us/step - loss: 0.0659 - accuracy: 0.9800 - val_loss: 0.0645 - val_accuracy: 0.9806\n",
            "Epoch 21/50\n",
            "60000/60000 [==============================] - 8s 126us/step - loss: 0.0638 - accuracy: 0.9801 - val_loss: 0.0616 - val_accuracy: 0.9820\n",
            "Epoch 22/50\n",
            "60000/60000 [==============================] - 8s 125us/step - loss: 0.0620 - accuracy: 0.9810 - val_loss: 0.0608 - val_accuracy: 0.9818\n",
            "Epoch 23/50\n",
            "60000/60000 [==============================] - 8s 128us/step - loss: 0.0601 - accuracy: 0.9816 - val_loss: 0.0619 - val_accuracy: 0.9818\n",
            "Epoch 24/50\n",
            "60000/60000 [==============================] - 8s 126us/step - loss: 0.0586 - accuracy: 0.9819 - val_loss: 0.0592 - val_accuracy: 0.9821\n",
            "Epoch 25/50\n",
            "60000/60000 [==============================] - 8s 126us/step - loss: 0.0571 - accuracy: 0.9826 - val_loss: 0.0586 - val_accuracy: 0.9817\n",
            "Epoch 26/50\n",
            "60000/60000 [==============================] - 8s 129us/step - loss: 0.0557 - accuracy: 0.9829 - val_loss: 0.0576 - val_accuracy: 0.9827\n",
            "Epoch 27/50\n",
            "60000/60000 [==============================] - 8s 134us/step - loss: 0.0545 - accuracy: 0.9836 - val_loss: 0.0563 - val_accuracy: 0.9830\n",
            "Epoch 28/50\n",
            "60000/60000 [==============================] - 8s 134us/step - loss: 0.0531 - accuracy: 0.9839 - val_loss: 0.0550 - val_accuracy: 0.9830\n",
            "Epoch 29/50\n",
            "60000/60000 [==============================] - 8s 131us/step - loss: 0.0522 - accuracy: 0.9843 - val_loss: 0.0539 - val_accuracy: 0.9839\n",
            "Epoch 30/50\n",
            "60000/60000 [==============================] - 8s 130us/step - loss: 0.0509 - accuracy: 0.9845 - val_loss: 0.0529 - val_accuracy: 0.9835\n",
            "Epoch 31/50\n",
            "60000/60000 [==============================] - 8s 130us/step - loss: 0.0498 - accuracy: 0.9847 - val_loss: 0.0533 - val_accuracy: 0.9832\n",
            "Epoch 32/50\n",
            "60000/60000 [==============================] - 8s 130us/step - loss: 0.0487 - accuracy: 0.9851 - val_loss: 0.0525 - val_accuracy: 0.9843\n",
            "Epoch 33/50\n",
            "60000/60000 [==============================] - 8s 132us/step - loss: 0.0481 - accuracy: 0.9855 - val_loss: 0.0520 - val_accuracy: 0.9841\n",
            "Epoch 34/50\n",
            "60000/60000 [==============================] - 8s 130us/step - loss: 0.0468 - accuracy: 0.9858 - val_loss: 0.0524 - val_accuracy: 0.9839\n",
            "Epoch 35/50\n",
            "60000/60000 [==============================] - 8s 130us/step - loss: 0.0465 - accuracy: 0.9858 - val_loss: 0.0518 - val_accuracy: 0.9846\n",
            "Epoch 36/50\n",
            "60000/60000 [==============================] - 8s 129us/step - loss: 0.0456 - accuracy: 0.9862 - val_loss: 0.0496 - val_accuracy: 0.9847\n",
            "Epoch 37/50\n",
            "60000/60000 [==============================] - 8s 130us/step - loss: 0.0449 - accuracy: 0.9863 - val_loss: 0.0504 - val_accuracy: 0.9847\n",
            "Epoch 38/50\n",
            "60000/60000 [==============================] - 8s 129us/step - loss: 0.0439 - accuracy: 0.9867 - val_loss: 0.0490 - val_accuracy: 0.9846\n",
            "Epoch 39/50\n",
            "60000/60000 [==============================] - 8s 130us/step - loss: 0.0432 - accuracy: 0.9869 - val_loss: 0.0485 - val_accuracy: 0.9840\n",
            "Epoch 40/50\n",
            "60000/60000 [==============================] - 8s 129us/step - loss: 0.0427 - accuracy: 0.9873 - val_loss: 0.0486 - val_accuracy: 0.9842\n",
            "Epoch 41/50\n",
            "60000/60000 [==============================] - 8s 130us/step - loss: 0.0416 - accuracy: 0.9877 - val_loss: 0.0478 - val_accuracy: 0.9846\n",
            "Epoch 42/50\n",
            "60000/60000 [==============================] - 8s 129us/step - loss: 0.0411 - accuracy: 0.9877 - val_loss: 0.0478 - val_accuracy: 0.9847\n",
            "Epoch 43/50\n",
            "60000/60000 [==============================] - 8s 128us/step - loss: 0.0404 - accuracy: 0.9879 - val_loss: 0.0479 - val_accuracy: 0.9845\n",
            "Epoch 44/50\n",
            "60000/60000 [==============================] - 8s 128us/step - loss: 0.0401 - accuracy: 0.9878 - val_loss: 0.0469 - val_accuracy: 0.9852\n",
            "Epoch 45/50\n",
            "60000/60000 [==============================] - 8s 130us/step - loss: 0.0392 - accuracy: 0.9883 - val_loss: 0.0460 - val_accuracy: 0.9849\n",
            "Epoch 46/50\n",
            "60000/60000 [==============================] - 8s 129us/step - loss: 0.0387 - accuracy: 0.9887 - val_loss: 0.0464 - val_accuracy: 0.9851\n",
            "Epoch 47/50\n",
            "60000/60000 [==============================] - 8s 130us/step - loss: 0.0382 - accuracy: 0.9887 - val_loss: 0.0489 - val_accuracy: 0.9845\n",
            "Epoch 48/50\n",
            "60000/60000 [==============================] - 8s 129us/step - loss: 0.0376 - accuracy: 0.9885 - val_loss: 0.0467 - val_accuracy: 0.9850\n",
            "Epoch 49/50\n",
            "60000/60000 [==============================] - 8s 128us/step - loss: 0.0374 - accuracy: 0.9889 - val_loss: 0.0455 - val_accuracy: 0.9850\n",
            "Epoch 50/50\n",
            "60000/60000 [==============================] - 8s 128us/step - loss: 0.0365 - accuracy: 0.9894 - val_loss: 0.0458 - val_accuracy: 0.9851\n"
          ],
          "name": "stdout"
        }
      ]
    },
    {
      "cell_type": "code",
      "metadata": {
        "id": "cXGctF-TFl49",
        "colab_type": "code",
        "outputId": "b5cdaf06-0723-4513-f182-953fbf9e5bc1",
        "colab": {
          "base_uri": "https://localhost:8080/",
          "height": 295
        }
      },
      "source": [
        "plt.plot(hist6.history['accuracy'])\n",
        "plt.plot(hist6.history['val_accuracy'])\n",
        "plt.title('Model accuracy')\n",
        "plt.ylabel('Accuracy')\n",
        "plt.xlabel('Epoch')\n",
        "plt.legend(['Train', 'Test'], loc='upper left')\n",
        "plt.show()"
      ],
      "execution_count": 0,
      "outputs": [
        {
          "output_type": "display_data",
          "data": {
            "image/png": "[encoded data removed]",
            "text/plain": [
              "<Figure size 432x288 with 1 Axes>"
            ]
          },
          "metadata": {
            "tags": [],
            "needs_background": "light"
          }
        }
      ]
    },
    {
      "cell_type": "code",
      "metadata": {
        "id": "mgfRyNkEYepg",
        "colab_type": "code",
        "outputId": "5c67501f-3ac3-4ce1-f127-990f5c255fd6",
        "colab": {
          "base_uri": "https://localhost:8080/",
          "height": 295
        }
      },
      "source": [
        "plt.plot(hist6.history['loss'])\n",
        "plt.plot(hist6.history['val_loss'])\n",
        "plt.title('Model loss')\n",
        "plt.ylabel('Loss')\n",
        "plt.xlabel('Epoch')\n",
        "plt.legend(['Train', 'Test'], loc='upper left')\n",
        "plt.show()"
      ],
      "execution_count": 0,
      "outputs": [
        {
          "output_type": "display_data",
          "data": {
            "image/png": "[encoded data removed]",
            "text/plain": [
              "<Figure size 432x288 with 1 Axes>"
            ]
          },
          "metadata": {
            "tags": [],
            "needs_background": "light"
          }
        }
      ]
    },
    {
      "cell_type": "code",
      "metadata": {
        "id": "DoZVkJClY7Tp",
        "colab_type": "code",
        "colab": {}
      },
      "source": [
        ""
      ],
      "execution_count": 0,
      "outputs": []
    }
  ]
}